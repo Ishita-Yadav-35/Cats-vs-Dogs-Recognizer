{
  "nbformat": 4,
  "nbformat_minor": 0,
  "metadata": {
    "colab": {
      "name": "Cats vs Dogs.ipynb",
      "provenance": []
    },
    "kernelspec": {
      "name": "python3",
      "display_name": "Python 3"
    },
    "language_info": {
      "name": "python"
    }
  },
  "cells": [
    {
      "cell_type": "code",
      "metadata": {
        "id": "6ImInp-18rpI",
        "colab": {
          "base_uri": "https://localhost:8080/"
        },
        "outputId": "5646e4ca-629b-465a-e58b-284f0fc2b559"
      },
      "source": [
        "!pip install streamlit --quiet\n",
        "!pip install pyngrok==4.1.1 --quiet\n",
        "from pyngrok import ngrok"
      ],
      "execution_count": null,
      "outputs": [
        {
          "output_type": "stream",
          "text": [
            "\u001b[K     |████████████████████████████████| 8.2MB 5.5MB/s \n",
            "\u001b[K     |████████████████████████████████| 81kB 6.6MB/s \n",
            "\u001b[K     |████████████████████████████████| 4.2MB 45.7MB/s \n",
            "\u001b[K     |████████████████████████████████| 112kB 18.9MB/s \n",
            "\u001b[K     |████████████████████████████████| 163kB 34.9MB/s \n",
            "\u001b[K     |████████████████████████████████| 122kB 42.5MB/s \n",
            "\u001b[K     |████████████████████████████████| 71kB 6.2MB/s \n",
            "\u001b[?25h  Building wheel for blinker (setup.py) ... \u001b[?25l\u001b[?25hdone\n",
            "\u001b[31mERROR: google-colab 1.0.0 has requirement ipykernel~=4.10, but you'll have ipykernel 5.5.3 which is incompatible.\u001b[0m\n",
            "  Building wheel for pyngrok (setup.py) ... \u001b[?25l\u001b[?25hdone\n"
          ],
          "name": "stdout"
        }
      ]
    },
    {
      "cell_type": "code",
      "metadata": {
        "colab": {
          "base_uri": "https://localhost:8080/"
        },
        "id": "dDrNBv1o910g",
        "outputId": "74451cfb-9ea8-4f7c-95cf-5414cef663f1"
      },
      "source": [
        "%%writefile app.py\n",
        "import streamlit as st\n",
        "#import pytesseract \n",
        "from PIL import Image, ImageOps\n",
        "import numpy as np\n",
        "import cv2\n",
        "import tensorflow as tf\n",
        "\n",
        "#st.set_option('deprecation.showfileUploaderEncoding',False)\n",
        "@st.cache(allow_output_mutation=True)\n",
        "def load_model():\n",
        "    model = tf.keras.models.load_model(\"Dogs_vs_cats.hdf5\")\n",
        "    return model\n",
        "model = load_model()\n",
        "uploaded_file = st.file_uploader(\"Image of cat/dog to be uploaded.\", type=['png','jpeg','jpg'])\n",
        "if uploaded_file is not None:\n",
        "\n",
        "    st.write(\"File uploaded! File type: \"+uploaded_file.type+\".\")\n",
        "    \n",
        "    image = Image.open(uploaded_file)\n",
        "    st.image(image, caption = 'Uploaded file.', use_column_width = True)\n",
        "    \n",
        "    bl = st.button(\"Predict\")\n",
        "    \n",
        "    if bl:\n",
        "        \n",
        "        size = (150, 150)\n",
        "        \n",
        "        image = np.asarray(image)\n",
        "        image = tf.image.resize(image, [150, 150])\n",
        "        image = np.asarray(image)\n",
        "        image = np.reshape(image, (1, 150, 150, 3))\n",
        "        image = image.copy()\n",
        "        \n",
        "        image /= 255\n",
        "        \n",
        "        label = model.predict(image)\n",
        "        \n",
        "        label = label[0][0]\n",
        "                          \n",
        "        if label==1:\n",
        "            st.write(\"DOG\", unsafe_allow_html = True)\n",
        "        else:\n",
        "            st.write(\"CAT\", unsafe_allow_html = True)"
      ],
      "execution_count": null,
      "outputs": [
        {
          "output_type": "stream",
          "text": [
            "Overwriting app.py\n"
          ],
          "name": "stdout"
        }
      ]
    },
    {
      "cell_type": "code",
      "metadata": {
        "id": "kSQRvLtN-TwI",
        "colab": {
          "base_uri": "https://localhost:8080/"
        },
        "outputId": "7b62ce46-cb35-4a72-f9ea-018cf3f489ff"
      },
      "source": [
        "!nohup streamlit run app.py &\n",
        "url = ngrok.connect(port='8501')\n",
        "print(url)"
      ],
      "execution_count": null,
      "outputs": [
        {
          "output_type": "stream",
          "text": [
            "nohup: appending output to 'nohup.out'\n",
            "http://2fe62395ab16.ngrok.io\n"
          ],
          "name": "stdout"
        }
      ]
    },
    {
      "cell_type": "code",
      "metadata": {
        "id": "Kx3wwbqPG7_Z"
      },
      "source": [
        ""
      ],
      "execution_count": null,
      "outputs": []
    }
  ]
}